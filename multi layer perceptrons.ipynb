{
 "cells": [
  {
   "cell_type": "markdown",
   "metadata": {},
   "source": [
    "## Multi Layer Perceptrons"
   ]
  },
  {
   "cell_type": "code",
   "execution_count": 62,
   "metadata": {},
   "outputs": [],
   "source": [
    "import numpy as np"
   ]
  },
  {
   "cell_type": "code",
   "execution_count": 63,
   "metadata": {},
   "outputs": [],
   "source": [
    "input_size = 2 # no of features\n",
    "layers = [4,3] # no of neurons in first and sencond layer\n",
    "output_size = 2\n"
   ]
  },
  {
   "cell_type": "code",
   "execution_count": 64,
   "metadata": {},
   "outputs": [],
   "source": [
    "def softmax(a):\n",
    "    e_pa = np.exp(a) \n",
    "    ans = e_pa/np.sum(e_pa, axis = 1, keepdims = True)\n",
    "    return ans\n",
    "    "
   ]
  },
  {
   "cell_type": "code",
   "execution_count": 75,
   "metadata": {},
   "outputs": [],
   "source": [
    "class NeuralNetwork:\n",
    "    def __init__(self, input_size, layers, output_size):\n",
    "        np.random.seed(0)\n",
    "        \n",
    "        model = {}\n",
    "        \n",
    "        #first layer\n",
    "        model['w1'] = np.random.randn(input_size, layers[0])\n",
    "        model['b1'] = np.zeros((1, layers[0]))\n",
    "        \n",
    "        #second layer\n",
    "        model['w2'] = np.random.randn(layers[0], layers[1])\n",
    "        model['b2'] = np.zeros((1, layers[1]))\n",
    "        \n",
    "        #output layer\n",
    "        model['w3'] = np.random.randn(layers[1], output_size)\n",
    "        model['b3'] = np.zeros((1, output_size))\n",
    "        \n",
    "        self.model = model\n",
    "    \n",
    "    def forward(self,x):\n",
    "        \n",
    "        W1, W2, W3 = self.model['w1'], self.model['w2'], self.model['w3']\n",
    "        b1, b2, b3 = self.model['b1'], self.model['b2'], self.model['b3']\n",
    "        \n",
    "        z1 = np.dot(x,W1)+b1\n",
    "        a1 = np.tanh(z1)\n",
    "        \n",
    "        z2 = np.dot(a1, W2) + b2\n",
    "        a2 = np.tanh(z2)\n",
    "        \n",
    "        z3 = np.dot(a2,W3) + b3\n",
    "        y_ = softmax(z3)\n",
    "        \n",
    "        self.activation_outputs = (a1,a2,y_)\n",
    "        return y_\n",
    "    \n",
    "    def backward(self, X, y,learning_rate = 0.001):\n",
    "        W1, W2, W3 = self.model['w1'], self.model['w2'], self.model['w3']\n",
    "        b1, b2, b3 = self.model['b1'], self.model['b2'], self.model['w3']\n",
    "        m = x.shape[0]\n",
    "        \n",
    "        a1,a2,y_ = self.activation_outputs\n",
    "        \n",
    "        delta3 = y_-y\n",
    "        dw3 = np.dot(a2.T, delta3)\n",
    "        db3 = np.sum(delta3, axis=0)/float(m)\n",
    "        \n",
    "        delta2 = (1-np.square(a2))*np.dot(delta3, W3.T)\n",
    "        dw2 = np.dot(a1.T,delta2)\n",
    "        db2 = np.sum(delta2, axis=0)/float(m)\n",
    "        \n",
    "        delta1 = (1-np.square(a1))*np.dot(delta2,W2.T)\n",
    "        dw1 = np.dot(X.T,delta1)\n",
    "        db1 = np.sum(delta1,axis=0)/float(m)\n",
    "        \n",
    "        \n",
    "        self.model['w1'] -=learning_rate*dw1\n",
    "        self.model['b1'] -=learning_rate*db1\n",
    "        \n",
    "        self.model['w2'] -=learning_rate*dw2\n",
    "        self.model['b2'] -=learning_rate*db2\n",
    "        \n",
    "        self.model['w3'] -=learning_rate*dw3\n",
    "        self.model['b3'] -=learning_rate*db3\n",
    "        \n",
    "        \n",
    "    def predict(self,x):\n",
    "        y_out = self.forward(x)\n",
    "        return np.argmax(y_out,axis = 1)\n",
    "    \n",
    "    \n",
    "        \n",
    "    \n",
    "    \n",
    "    "
   ]
  },
  {
   "cell_type": "code",
   "execution_count": 76,
   "metadata": {},
   "outputs": [],
   "source": [
    "def loss(y_oht,p):\n",
    "    l = -np.mean(y_oht*np.log(p))\n",
    "    return l \n",
    "\n",
    "def one_hot(y, depth):\n",
    "    \n",
    "    m = y.shape[0]\n",
    "    y_oht = np.zeros((m,depth))\n",
    "    y_oht[np.arange(m),y] = 1\n",
    "\n",
    "    return y_oht\n",
    "    \n",
    "    "
   ]
  },
  {
   "cell_type": "code",
   "execution_count": 77,
   "metadata": {},
   "outputs": [],
   "source": [
    "def train(X,Y,model,epochs,learning_rate,logs = True):\n",
    "    training_loss = []\n",
    "    \n",
    "    classes = 2\n",
    "    y_oht = one_hot(Y,classes)\n",
    "    \n",
    "    for ix in range(epochs):\n",
    "        \n",
    "        y_ = model.forward(X)\n",
    "        l = loss(y_oht,y_)\n",
    "        training_loss.append(l)\n",
    "        model.backward(X,y_oht,learning_rate)\n",
    "        \n",
    "        if (logs):\n",
    "            print(\"epoch %d loss %f\"%(ix,l))\n",
    "            \n",
    "    return training_loss"
   ]
  },
  {
   "cell_type": "code",
   "execution_count": 68,
   "metadata": {},
   "outputs": [],
   "source": [
    "model = NeuralNetwork(input_size = 2, layers = [10,5], output_size = 2)"
   ]
  },
  {
   "cell_type": "markdown",
   "metadata": {},
   "source": [
    "## XOR Dataset"
   ]
  },
  {
   "cell_type": "code",
   "execution_count": 57,
   "metadata": {},
   "outputs": [],
   "source": [
    "X = np.array([[0,0],[0,1],[1,0],[1,1]])\n",
    "Y = np.array([0,1,1,0])"
   ]
  },
  {
   "cell_type": "code",
   "execution_count": 58,
   "metadata": {},
   "outputs": [
    {
     "name": "stdout",
     "output_type": "stream",
     "text": [
      "epoch 0 loss 0.342702\n",
      "epoch 1 loss 0.255870\n",
      "epoch 2 loss 0.216245\n",
      "epoch 3 loss 0.194929\n",
      "epoch 4 loss 0.179687\n",
      "epoch 5 loss 0.165584\n",
      "epoch 6 loss 0.151407\n",
      "epoch 7 loss 0.137308\n",
      "epoch 8 loss 0.123851\n",
      "epoch 9 loss 0.111479\n",
      "epoch 10 loss 0.100397\n",
      "epoch 11 loss 0.090629\n",
      "epoch 12 loss 0.082098\n",
      "epoch 13 loss 0.074678\n",
      "epoch 14 loss 0.068228\n",
      "epoch 15 loss 0.062612\n",
      "epoch 16 loss 0.057707\n",
      "epoch 17 loss 0.053407\n",
      "epoch 18 loss 0.049621\n",
      "epoch 19 loss 0.046271\n",
      "epoch 20 loss 0.043296\n",
      "epoch 21 loss 0.040640\n",
      "epoch 22 loss 0.038260\n",
      "epoch 23 loss 0.036117\n",
      "epoch 24 loss 0.034182\n",
      "epoch 25 loss 0.032426\n",
      "epoch 26 loss 0.030828\n",
      "epoch 27 loss 0.029368\n",
      "epoch 28 loss 0.028031\n",
      "epoch 29 loss 0.026802\n",
      "epoch 30 loss 0.025670\n",
      "epoch 31 loss 0.024623\n",
      "epoch 32 loss 0.023653\n",
      "epoch 33 loss 0.022753\n",
      "epoch 34 loss 0.021915\n",
      "epoch 35 loss 0.021133\n",
      "epoch 36 loss 0.020403\n",
      "epoch 37 loss 0.019718\n",
      "epoch 38 loss 0.019076\n",
      "epoch 39 loss 0.018473\n",
      "epoch 40 loss 0.017905\n",
      "epoch 41 loss 0.017369\n",
      "epoch 42 loss 0.016863\n",
      "epoch 43 loss 0.016384\n",
      "epoch 44 loss 0.015931\n",
      "epoch 45 loss 0.015502\n",
      "epoch 46 loss 0.015094\n",
      "epoch 47 loss 0.014706\n",
      "epoch 48 loss 0.014337\n",
      "epoch 49 loss 0.013985\n",
      "epoch 50 loss 0.013650\n",
      "epoch 51 loss 0.013329\n",
      "epoch 52 loss 0.013023\n",
      "epoch 53 loss 0.012731\n",
      "epoch 54 loss 0.012451\n",
      "epoch 55 loss 0.012182\n",
      "epoch 56 loss 0.011924\n",
      "epoch 57 loss 0.011677\n",
      "epoch 58 loss 0.011440\n",
      "epoch 59 loss 0.011212\n",
      "epoch 60 loss 0.010992\n",
      "epoch 61 loss 0.010781\n",
      "epoch 62 loss 0.010577\n",
      "epoch 63 loss 0.010381\n",
      "epoch 64 loss 0.010191\n",
      "epoch 65 loss 0.010009\n",
      "epoch 66 loss 0.009832\n",
      "epoch 67 loss 0.009662\n",
      "epoch 68 loss 0.009497\n",
      "epoch 69 loss 0.009338\n",
      "epoch 70 loss 0.009183\n",
      "epoch 71 loss 0.009034\n",
      "epoch 72 loss 0.008889\n",
      "epoch 73 loss 0.008749\n",
      "epoch 74 loss 0.008613\n",
      "epoch 75 loss 0.008481\n",
      "epoch 76 loss 0.008353\n",
      "epoch 77 loss 0.008229\n",
      "epoch 78 loss 0.008108\n",
      "epoch 79 loss 0.007991\n",
      "epoch 80 loss 0.007877\n",
      "epoch 81 loss 0.007766\n",
      "epoch 82 loss 0.007658\n",
      "epoch 83 loss 0.007553\n",
      "epoch 84 loss 0.007451\n",
      "epoch 85 loss 0.007352\n",
      "epoch 86 loss 0.007255\n",
      "epoch 87 loss 0.007160\n",
      "epoch 88 loss 0.007068\n",
      "epoch 89 loss 0.006978\n",
      "epoch 90 loss 0.006891\n",
      "epoch 91 loss 0.006805\n",
      "epoch 92 loss 0.006722\n",
      "epoch 93 loss 0.006641\n",
      "epoch 94 loss 0.006561\n",
      "epoch 95 loss 0.006483\n",
      "epoch 96 loss 0.006408\n",
      "epoch 97 loss 0.006333\n",
      "epoch 98 loss 0.006261\n",
      "epoch 99 loss 0.006190\n"
     ]
    }
   ],
   "source": [
    "losses = train(X,Y,model,100,0.1)"
   ]
  },
  {
   "cell_type": "code",
   "execution_count": 59,
   "metadata": {},
   "outputs": [],
   "source": [
    "from matplotlib import pyplot as plt"
   ]
  },
  {
   "cell_type": "code",
   "execution_count": 60,
   "metadata": {},
   "outputs": [
    {
     "data": {
      "image/png": "[encoded data removed]",
      "text/plain": [
       "<Figure size 432x288 with 1 Axes>"
      ]
     },
     "metadata": {
      "needs_background": "light"
     },
     "output_type": "display_data"
    }
   ],
   "source": [
    "plt.plot(losses)\n",
    "plt.show()"
   ]
  },
  {
   "cell_type": "code",
   "execution_count": 92,
   "metadata": {},
   "outputs": [
    {
     "name": "stdout",
     "output_type": "stream",
     "text": [
      "training_accuracy is 0.954\n"
     ]
    }
   ],
   "source": [
    "from sklearn.datasets import make_moons\n",
    "x_tr,y_tr = make_moons(n_samples = 500, noise = 0.2,random_state=1)\n",
    "\n",
    "model = NeuralNetwork(input_size = 2, layers = [8,4],output_size = 2)\n",
    "train(x_tr,y_tr,model,1000,0.001,logs=False)\n",
    "outputs = model.predict(x_tr)\n",
    "\n",
    "training_accuracy = np.sum(outputs == y_tr)/y_tr.shape[0]\n",
    "print('training_accuracy is', training_accuracy)\n"
   ]
  },
  {
   "cell_type": "code",
   "execution_count": null,
   "metadata": {},
   "outputs": [],
   "source": []
  }
 ],
 "metadata": {
  "kernelspec": {
   "display_name": "Python 3",
   "language": "python",
   "name": "python3"
  },
  "language_info": {
   "codemirror_mode": {
    "name": "ipython",
    "version": 3
   },
   "file_extension": ".py",
   "mimetype": "text/x-python",
   "name": "python",
   "nbconvert_exporter": "python",
   "pygments_lexer": "ipython3",
   "version": "3.7.4"
  }
 },
 "nbformat": 4,
 "nbformat_minor": 2
}
