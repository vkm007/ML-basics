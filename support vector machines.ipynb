{
 "cells": [
  {
   "cell_type": "markdown",
   "metadata": {},
   "source": [
    "## Support Vector Machines"
   ]
  },
  {
   "cell_type": "code",
   "execution_count": 2,
   "metadata": {},
   "outputs": [],
   "source": [
    "import numpy as np\n",
    "import pandas as pd\n",
    "import matplotlib.pyplot as plt\n"
   ]
  },
  {
   "cell_type": "code",
   "execution_count": 3,
   "metadata": {},
   "outputs": [],
   "source": [
    "class SVM:\n",
    "    \n",
    "    def __init__(self, C=1.0):\n",
    "        self.C = C\n",
    "        self.W = 0\n",
    "        self.b = 0\n",
    "        \n",
    "    def hingeloss(self,W,b,X,Y):\n",
    "        loss = 0.0\n",
    "        \n",
    "        loss*=.5*np.dot(W, W.T)\n",
    "        \n",
    "        m = X.shape[0]\n",
    "        \n",
    "        for i in range(m):\n",
    "            ti = Y[i]*(np.dot(W,X[i].T)+b)\n",
    "            loss += self.C*max(0,(1-ti))\n",
    "            \n",
    "        return loss[0][0]\n",
    "    \n",
    "    def fit(self,X,Y,batch_size=100,learning_rate=0.001):\n",
    "        n_features = X.shape[1]\n",
    "        n_samples = X.shape[0]\n",
    "        \n",
    "        n = learning_rate\n",
    "        C = self.C\n",
    "        \n",
    "        #initialising the model parameters\n",
    "        W = np.zeros(1,n_features)\n",
    "        bias = 0\n",
    "        losses = []\n",
    "        #Weight and bias update rule\n",
    "        \n",
    "        for i in range(maxItr):\n",
    "            \n",
    "            \n",
    "            l = self.hingeloss(W,bias,X,Y)\n",
    "            losses.append(l)\n",
    "            ids = np.arange(n_samples)\n",
    "            np.random.shuffle(ids)\n",
    "            \n",
    "            for batch_start in range(0, n_samples, batch_size):\n",
    "                gradw = 0\n",
    "                gradb = 0\n",
    "                \n",
    "                for j in range(batch_start, batch_start+batch_size):\n",
    "                    if j<n_samples:\n",
    "                        i = ids[j]\n",
    "                        ti = Y[i]*(np.dot(w, X[i].T)+bias)\n",
    "                        \n",
    "                        if ti>1:\n",
    "                            gradw+=0\n",
    "                            gradb+=0\n",
    "                        else:\n",
    "                            gradw += c*Y[i]*X[i]\n",
    "                            gradb += c*Y[i]\n",
    "                            \n",
    "                W = W - n*W + n*gradw\n",
    "                bias = bias + n*gradb\n",
    "        \n",
    "        self.W = W\n",
    "        self.b = bias\n",
    "        return W, bias, losses\n",
    "                    \n",
    "        \n",
    "        \n",
    "        \n",
    "        "
   ]
  },
  {
   "cell_type": "code",
   "execution_count": null,
   "metadata": {},
   "outputs": [],
   "source": []
  }
 ],
 "metadata": {
  "kernelspec": {
   "display_name": "Python 3",
   "language": "python",
   "name": "python3"
  },
  "language_info": {
   "codemirror_mode": {
    "name": "ipython",
    "version": 3
   },
   "file_extension": ".py",
   "mimetype": "text/x-python",
   "name": "python",
   "nbconvert_exporter": "python",
   "pygments_lexer": "ipython3",
   "version": "3.7.4"
  }
 },
 "nbformat": 4,
 "nbformat_minor": 2
}
