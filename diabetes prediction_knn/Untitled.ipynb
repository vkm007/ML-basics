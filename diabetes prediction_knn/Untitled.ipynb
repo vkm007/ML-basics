{
 "cells": [
  {
   "cell_type": "code",
   "execution_count": 1,
   "metadata": {},
   "outputs": [],
   "source": [
    "import warnings\n",
    "warnings.filterwarnings(\"ignore\")\n",
    "import numpy as np\n",
    "import pandas as pd\n",
    "import matplotlib.pyplot as plt\n",
    "import seaborn as sns\n",
    "from sklearn.neighbors import KNeighborsClassifier\n",
    "from sklearn.preprocessing import StandardScaler\n",
    "from sklearn.model_selection import cross_val_score\n",
    "from sklearn.metrics import accuracy_score"
   ]
  },
  {
   "cell_type": "code",
   "execution_count": 3,
   "metadata": {},
   "outputs": [
    {
     "name": "stdout",
     "output_type": "stream",
     "text": [
      "   Pregnancies  Glucose  BloodPressure  SkinThickness  Insulin   BMI  \\\n",
      "0            7      168             88             42      321  38.2   \n",
      "1            8      110             76              0        0  27.8   \n",
      "2            7      147             76              0        0  39.4   \n",
      "3            2      100             66             20       90  32.9   \n",
      "4            4      129             86             20      270  35.1   \n",
      "\n",
      "   DiabetesPedigreeFunction  Age  \n",
      "0                     0.787   40  \n",
      "1                     0.237   58  \n",
      "2                     0.257   43  \n",
      "3                     0.867   28  \n",
      "4                     0.231   23  \n",
      "[[7.00e+00 1.68e+02 8.80e+01 4.20e+01 3.21e+02 3.82e+01 7.87e-01 4.00e+01]\n",
      " [8.00e+00 1.10e+02 7.60e+01 0.00e+00 0.00e+00 2.78e+01 2.37e-01 5.80e+01]\n",
      " [7.00e+00 1.47e+02 7.60e+01 0.00e+00 0.00e+00 3.94e+01 2.57e-01 4.30e+01]\n",
      " [2.00e+00 1.00e+02 6.60e+01 2.00e+01 9.00e+01 3.29e+01 8.67e-01 2.80e+01]\n",
      " [4.00e+00 1.29e+02 8.60e+01 2.00e+01 2.70e+02 3.51e+01 2.31e-01 2.30e+01]]\n",
      "   Outcome\n",
      "0        1\n",
      "1        0\n",
      "2        1\n",
      "3        1\n",
      "4        0\n",
      "0    375\n",
      "1    201\n",
      "Name: Outcome, dtype: int64\n"
     ]
    }
   ],
   "source": [
    "# loading data\n",
    "x_train = pd.read_csv(\"Diabetes_XTrain.csv\")\n",
    "y_train = pd.read_csv(\"Diabetes_YTrain.csv\")\n",
    "x_test = pd.read_csv(\"Diabetes_Xtest.csv\")\n",
    "\n",
    "print(x_train.head())\n",
    "print(x_train.values[0:5])\n",
    "print(y_train.head())\n",
    "values = pd.value_counts(y_train[\"Outcome\"])\n",
    "\n",
    "\n",
    "\n",
    "\n",
    "print(values)"
   ]
  },
  {
   "cell_type": "code",
   "execution_count": 4,
   "metadata": {},
   "outputs": [
    {
     "data": {
      "image/png": "[encoded data removed]",
      "text/plain": [
       "<Figure size 432x288 with 1 Axes>"
      ]
     },
     "metadata": {},
     "output_type": "display_data"
    }
   ],
   "source": [
    "sns.set_style(\"whitegrid\")\n",
    "plt.bar([0,1], values,tick_label = [\"Negative\", \"Postive\"] )\n",
    "plt.xlabel(\"Prediction results\") \n",
    "plt.ylabel(\"No of patients\")\n",
    "plt.title(\"patients results\")\n",
    "plt.show()"
   ]
  },
  {
   "cell_type": "code",
   "execution_count": 39,
   "metadata": {},
   "outputs": [],
   "source": []
  },
  {
   "cell_type": "code",
   "execution_count": 5,
   "metadata": {},
   "outputs": [
    {
     "data": {
      "text/plain": [
       "array([[ 0.97457151,  1.52528095,  0.94599501, ...,  0.78036618,\n",
       "         0.907501  ,  0.59363371],\n",
       "       [ 1.27524274, -0.31683408,  0.35393439, ..., -0.49918316,\n",
       "        -0.72639999,  2.11034006],\n",
       "       [ 0.97457151,  0.85830827,  0.35393439, ...,  0.92800649,\n",
       "        -0.66698541,  0.8464181 ],\n",
       "       ...,\n",
       "       [-0.52878465,  0.06429317, -0.43547977, ..., -0.25311598,\n",
       "         0.69954996, -0.92307263],\n",
       "       [ 0.07255781,  1.0806325 ,  0.15658085, ..., -0.06856559,\n",
       "        -0.42635635,  0.34084932],\n",
       "       [-0.82945588, -1.01556737,  0.45261116, ...,  0.01755792,\n",
       "        -0.34614667, -0.33324239]])"
      ]
     },
     "execution_count": 5,
     "metadata": {},
     "output_type": "execute_result"
    }
   ],
   "source": [
    "x_train = x_train.values\n",
    "std = StandardScaler()\n",
    "std.fit_transform(x_train)"
   ]
  },
  {
   "cell_type": "code",
   "execution_count": 9,
   "metadata": {},
   "outputs": [
    {
     "data": {
      "image/png": "[encoded data removed]",
      "text/plain": [
       "<Figure size 432x288 with 1 Axes>"
      ]
     },
     "metadata": {},
     "output_type": "display_data"
    },
    {
     "name": "stdout",
     "output_type": "stream",
     "text": [
      "[0 0 0 0 0]\n"
     ]
    }
   ],
   "source": [
    "cv_scores = []\n",
    "\n",
    "for i in range(1, 50, 2):\n",
    "    knn = KNeighborsClassifier(n_neighbors=i, algorithm=\"brute\", n_jobs = -1)\n",
    "    scores = cross_val_score(knn , x_train , y_train.values, scoring = \"accuracy\" )\n",
    "    cv_scores.append(scores.mean())\n",
    "    \n",
    "mse = [1-x for x in cv_scores]\n",
    "\n",
    "k = list(range(1,50,2))\n",
    "optimal_k = k[mse.index(min(mse))]\n",
    "plt.plot(k, mse) #plotting error plot\n",
    "plt.xlabel('number of neighbors k')\n",
    "plt.ylabel('misclassification error')\n",
    "plt.show()\n",
    "\n",
    "model = KNeighborsClassifier(n_neighbors=optimal_k, algorithm = 'brute', n_jobs = -1)\n",
    "model.fit(x_train, y_train)\n",
    "pred = model.predict(x_test)\n",
    "print(pred[0:5])"
   ]
  },
  {
   "cell_type": "code",
   "execution_count": 8,
   "metadata": {},
   "outputs": [],
   "source": [
    "df = pd.DataFrame(pred, columns = {'Outcome'})\n",
    "df.to_csv('result1.csv', index = False)"
   ]
  },
  {
   "cell_type": "code",
   "execution_count": null,
   "metadata": {},
   "outputs": [],
   "source": []
  }
 ],
 "metadata": {
  "kernelspec": {
   "display_name": "Python 3",
   "language": "python",
   "name": "python3"
  },
  "language_info": {
   "codemirror_mode": {
    "name": "ipython",
    "version": 3
   },
   "file_extension": ".py",
   "mimetype": "text/x-python",
   "name": "python",
   "nbconvert_exporter": "python",
   "pygments_lexer": "ipython3",
   "version": "3.7.4"
  }
 },
 "nbformat": 4,
 "nbformat_minor": 2
}
