{
 "cells": [
  {
   "cell_type": "markdown",
   "metadata": {},
   "source": [
    "## Air quality prediction"
   ]
  },
  {
   "cell_type": "code",
   "execution_count": 4,
   "metadata": {},
   "outputs": [],
   "source": [
    "import numpy as np\n",
    "import pandas as pd\n",
    "import matplotlib.pyplot as plt\n",
    "import warnings\n",
    "warnings.filterwarnings('ignore')\n"
   ]
  },
  {
   "cell_type": "code",
   "execution_count": 7,
   "metadata": {},
   "outputs": [
    {
     "name": "stdout",
     "output_type": "stream",
     "text": [
      "(1600, 5)\n",
      "(1600,)\n"
     ]
    }
   ],
   "source": [
    "df= pd.read_csv('Train.csv')\n",
    "dfy = df['target']\n",
    "dfx = df.drop('target', axis = 1)\n",
    "print(dfx.shape)\n",
    "print(dfy.shape)"
   ]
  },
  {
   "cell_type": "code",
   "execution_count": 10,
   "metadata": {},
   "outputs": [],
   "source": [
    "x_train = dfx.values\n",
    "y_train = dfy.values"
   ]
  },
  {
   "cell_type": "code",
   "execution_count": 11,
   "metadata": {},
   "outputs": [
    {
     "name": "stdout",
     "output_type": "stream",
     "text": [
      "[[ 0.31139642 -0.92093003 -0.3992678   0.42418404  0.5423883 ]\n",
      " [-0.81200658 -0.16864243 -0.75264729 -1.02857829  0.61433283]\n",
      " [ 0.25471295  0.15168305 -0.12736142  0.71564009 -0.16678861]\n",
      " [ 0.19392955  0.16198536 -0.55840986 -0.10188366 -1.26562851]\n",
      " [-1.66430757  0.5593463  -2.76405708 -0.66345183  1.25692511]]\n"
     ]
    }
   ],
   "source": [
    "#standardising data\n",
    "u = np.mean(x_train)\n",
    "std = np.std(x_train)\n",
    "\n",
    "x_train = (x_train-u)/std\n",
    "\n",
    "print(x_train[:5,:])"
   ]
  },
  {
   "cell_type": "code",
   "execution_count": 12,
   "metadata": {},
   "outputs": [
    {
     "name": "stdout",
     "output_type": "stream",
     "text": [
      "(1600, 6)\n"
     ]
    }
   ],
   "source": [
    "#adding a new column with ones\n",
    "ones = np.ones((x_train.shape[0],1))\n",
    "x_train = np.hstack((ones, x_train))\n",
    "print(x_train.shape)"
   ]
  },
  {
   "cell_type": "code",
   "execution_count": 50,
   "metadata": {},
   "outputs": [],
   "source": [
    "def hypothesis(X, theta):\n",
    "    return np.dot(X, theta)\n",
    "\n",
    "def gradient(X,y, theta):\n",
    "    y_= hypothesis(X,theta)\n",
    "    grad = np.dot(X.T, (y_-y))\n",
    "    m = X.shape[0]\n",
    "    \n",
    "    return grad/m\n",
    "\n",
    "def gradient_descent(X, y ,learning_rate = 1, max_iters = 300):\n",
    "    m = X.shape[1]\n",
    "    theta = np.zeros((m,))\n",
    "    \n",
    "    for i in range(max_iters):\n",
    "        \n",
    "        grad = gradient(X,y,theta)\n",
    "        theta = theta - learning_rate*grad\n",
    "        \n",
    "    return theta\n",
    "\n",
    "\n",
    "    \n",
    "\n",
    "\n",
    "\n",
    "        "
   ]
  },
  {
   "cell_type": "code",
   "execution_count": 51,
   "metadata": {},
   "outputs": [],
   "source": [
    "theta = gradient_descent(x_train, y_train)"
   ]
  },
  {
   "cell_type": "code",
   "execution_count": 52,
   "metadata": {},
   "outputs": [
    {
     "data": {
      "text/plain": [
       "array([ 1.49138699, 29.84297081, 93.16540718,  8.32556432, 45.01071403,\n",
       "        2.53283406])"
      ]
     },
     "execution_count": 52,
     "metadata": {},
     "output_type": "execute_result"
    }
   ],
   "source": [
    "theta"
   ]
  },
  {
   "cell_type": "code",
   "execution_count": 53,
   "metadata": {},
   "outputs": [
    {
     "name": "stdout",
     "output_type": "stream",
     "text": [
      "(400,)\n"
     ]
    }
   ],
   "source": [
    "x_test = pd.read_csv('Test.csv')\n",
    "x_test = x_test.values\n",
    "\n",
    "ones = np.ones((x_test.shape[0],1))\n",
    "x_test = np.hstack((ones, x_test))\n",
    "\n",
    "pred = hypothesis(x_test, theta)\n",
    "print(pred.shape)"
   ]
  },
  {
   "cell_type": "code",
   "execution_count": 54,
   "metadata": {},
   "outputs": [],
   "source": [
    "\n",
    "\n",
    "df = pd.DataFrame(pred, columns={'target'})\n",
    "df.to_csv('predictions.csv', index_label = 'Id')"
   ]
  },
  {
   "cell_type": "code",
   "execution_count": null,
   "metadata": {},
   "outputs": [],
   "source": []
  }
 ],
 "metadata": {
  "kernelspec": {
   "display_name": "Python 3",
   "language": "python",
   "name": "python3"
  },
  "language_info": {
   "codemirror_mode": {
    "name": "ipython",
    "version": 3
   },
   "file_extension": ".py",
   "mimetype": "text/x-python",
   "name": "python",
   "nbconvert_exporter": "python",
   "pygments_lexer": "ipython3",
   "version": "3.7.4"
  }
 },
 "nbformat": 4,
 "nbformat_minor": 2
}
