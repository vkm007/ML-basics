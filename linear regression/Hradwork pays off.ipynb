{
 "cells": [
  {
   "cell_type": "markdown",
   "metadata": {},
   "source": [
    "## Hardwork Pays Off"
   ]
  },
  {
   "cell_type": "code",
   "execution_count": 1,
   "metadata": {},
   "outputs": [],
   "source": [
    "import numpy as np\n",
    "import matplotlib.pyplot as plt\n",
    "import pandas as pd"
   ]
  },
  {
   "cell_type": "code",
   "execution_count": 4,
   "metadata": {},
   "outputs": [],
   "source": [
    "#def linear regression\n",
    "def hypothesis(x,theta):\n",
    "    y_ = theta[0]+theta[1]*x\n",
    "    return y_\n",
    "\n",
    "def gradient(X,Y,theta):\n",
    "    m = X.shape[0]\n",
    "    grad = np.zeros((2,))\n",
    "    for i in range(m):\n",
    "        y_ = hypothesis(X[i], theta)\n",
    "        y = Y[i]\n",
    "        x = X[i]\n",
    "        grad[0] += (y_-y)\n",
    "        grad[1] += (y_-y)*x\n",
    "    \n",
    "    return grad/m\n",
    "\n",
    "def gradientDescent(X,Y,max_steps =100, learning_rate = 0.1):\n",
    "    theta = np.zeros((2,))\n",
    "    for i in range(max_steps):\n",
    "        \n",
    "        grad = gradient(X,Y, theta)\n",
    "        theta[0]= theta[0]- learning_rate*grad[0]\n",
    "        theta[1] = theta[1]- learning_rate*grad[1]\n",
    "    return theta\n",
    "\n",
    "        \n",
    "    \n",
    "    "
   ]
  },
  {
   "cell_type": "code",
   "execution_count": 11,
   "metadata": {},
   "outputs": [
    {
     "name": "stdout",
     "output_type": "stream",
     "text": [
      "(1250, 1)\n"
     ]
    }
   ],
   "source": [
    "x_train = pd.read_csv('linear regression/Linear_X_Train.csv')\n",
    "y_train  = pd.read_csv('linear regression/Linear_Y_Train.csv')\n",
    "x_test = pd.read_csv('linear regression/Linear_X_Test.csv')\n",
    "\n",
    "theta = gradientDescent(x_train.values, y_train.values )\n",
    "y_ = hypothesis(x_test.values, theta)\n",
    "print(y_.shape)\n"
   ]
  },
  {
   "cell_type": "code",
   "execution_count": 7,
   "metadata": {},
   "outputs": [],
   "source": [
    "df = pd.DataFrame(y_, columns={'y'})"
   ]
  },
  {
   "cell_type": "code",
   "execution_count": 13,
   "metadata": {},
   "outputs": [],
   "source": [
    "df.to_csv('y_prediction.csv', index = False)"
   ]
  },
  {
   "cell_type": "code",
   "execution_count": 12,
   "metadata": {},
   "outputs": [
    {
     "name": "stdout",
     "output_type": "stream",
     "text": [
      "[[-19.57419108]\n",
      " [-43.69635897]\n",
      " [ 86.48322254]\n",
      " ...\n",
      " [-20.85126634]\n",
      " [138.69991375]\n",
      " [-35.87967507]]\n"
     ]
    }
   ],
   "source": [
    "y_ = hypothesis(x_train.values, theta)\n",
    "print(y_)"
   ]
  },
  {
   "cell_type": "code",
   "execution_count": null,
   "metadata": {},
   "outputs": [],
   "source": []
  }
 ],
 "metadata": {
  "kernelspec": {
   "display_name": "Python 3",
   "language": "python",
   "name": "python3"
  },
  "language_info": {
   "codemirror_mode": {
    "name": "ipython",
    "version": 3
   },
   "file_extension": ".py",
   "mimetype": "text/x-python",
   "name": "python",
   "nbconvert_exporter": "python",
   "pygments_lexer": "ipython3",
   "version": "3.7.4"
  }
 },
 "nbformat": 4,
 "nbformat_minor": 2
}
